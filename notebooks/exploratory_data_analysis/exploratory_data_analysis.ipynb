{
 "cells": [
  {
   "cell_type": "markdown",
   "metadata": {},
   "source": [
    "**Analysis owner**: Tamiris Crepalde <br>\n",
    "**Date**: 09/01/2023 <br>"
   ]
  },
  {
   "cell_type": "markdown",
   "metadata": {},
   "source": [
    "This analysis pretends to do an Exploratory Data Analysis of a dateset related to cancellations of travel packages.\n",
    "\n",
    "Packages are a type of travel product that include flight tickets and hotel reservations."
   ]
  },
  {
   "cell_type": "markdown",
   "metadata": {},
   "source": [
    "### Setup"
   ]
  },
  {
   "cell_type": "code",
   "execution_count": 1,
   "metadata": {},
   "outputs": [],
   "source": [
    "import os\n",
    "\n",
    "import numpy as np\n",
    "import pandas as pd\n",
    "\n",
    "import src.utils as utils\n",
    "from GoogleUtils import GoogleUtils\n",
    "\n",
    "%load_ext autoreload\n",
    "%autoreload 2"
   ]
  },
  {
   "cell_type": "code",
   "execution_count": 2,
   "metadata": {},
   "outputs": [],
   "source": [
    "gutils = GoogleUtils()"
   ]
  },
  {
   "cell_type": "markdown",
   "metadata": {},
   "source": [
    "### Load data"
   ]
  },
  {
   "cell_type": "code",
   "execution_count": 3,
   "metadata": {},
   "outputs": [],
   "source": [
    "root = os.getcwd()"
   ]
  },
  {
   "cell_type": "code",
   "execution_count": 4,
   "metadata": {},
   "outputs": [
    {
     "name": "stderr",
     "output_type": "stream",
     "text": [
      "/usr/local/lib/python3.7/dist-packages/google/cloud/bigquery/client.py:441: UserWarning: Cannot create BigQuery Storage client, the dependency google-cloud-bigquery-storage is not installed.\n",
      "  \"Cannot create BigQuery Storage client, the dependency \"\n"
     ]
    }
   ],
   "source": [
    "query = utils.read_file(f'{root}/src/queries/package_cancellation_data.sql')\n",
    "df_cancel = gutils.read_from_bq(query)"
   ]
  },
  {
   "cell_type": "code",
   "execution_count": 6,
   "metadata": {},
   "outputs": [
    {
     "data": {
      "text/html": [
       "<div>\n",
       "<style scoped>\n",
       "    .dataframe tbody tr th:only-of-type {\n",
       "        vertical-align: middle;\n",
       "    }\n",
       "\n",
       "    .dataframe tbody tr th {\n",
       "        vertical-align: top;\n",
       "    }\n",
       "\n",
       "    .dataframe thead th {\n",
       "        text-align: right;\n",
       "    }\n",
       "</style>\n",
       "<table border=\"1\" class=\"dataframe\">\n",
       "  <thead>\n",
       "    <tr style=\"text-align: right;\">\n",
       "      <th></th>\n",
       "      <th>operation_order_id</th>\n",
       "      <th>operation_id</th>\n",
       "      <th>order_id</th>\n",
       "      <th>order_date</th>\n",
       "      <th>origin_city</th>\n",
       "      <th>order_origin_city</th>\n",
       "      <th>origin_state</th>\n",
       "      <th>origin_country</th>\n",
       "      <th>destination_type</th>\n",
       "      <th>destination_city</th>\n",
       "      <th>...</th>\n",
       "      <th>first_valid_date_brt</th>\n",
       "      <th>last_valid_date_brt</th>\n",
       "      <th>first_possible_wish_date_brt</th>\n",
       "      <th>first_wish_date_brt</th>\n",
       "      <th>second_wish_date_brt</th>\n",
       "      <th>third_wish_date_brt</th>\n",
       "      <th>operation_status_id</th>\n",
       "      <th>operation_status_name</th>\n",
       "      <th>last_update_status_date_brt</th>\n",
       "      <th>qty_status_changes</th>\n",
       "    </tr>\n",
       "  </thead>\n",
       "  <tbody>\n",
       "    <tr>\n",
       "      <th>0</th>\n",
       "      <td>-5491122872638631047</td>\n",
       "      <td>NaN</td>\n",
       "      <td>-6623802656111529296</td>\n",
       "      <td>2018-06-28</td>\n",
       "      <td>São Paulo</td>\n",
       "      <td>São Paulo</td>\n",
       "      <td>São Paulo</td>\n",
       "      <td>Brasil</td>\n",
       "      <td>Internacional</td>\n",
       "      <td>Joanesburgo</td>\n",
       "      <td>...</td>\n",
       "      <td>2019-03-01</td>\n",
       "      <td>2019-11-30</td>\n",
       "      <td>None</td>\n",
       "      <td>2019-05-11</td>\n",
       "      <td>2019-06-08</td>\n",
       "      <td>2019-07-06</td>\n",
       "      <td>NaN</td>\n",
       "      <td>None</td>\n",
       "      <td>2018-07-13</td>\n",
       "      <td>2</td>\n",
       "    </tr>\n",
       "    <tr>\n",
       "      <th>1</th>\n",
       "      <td>7489639055654340655</td>\n",
       "      <td>6.293305e+18</td>\n",
       "      <td>6071263481676392773</td>\n",
       "      <td>2019-11-29</td>\n",
       "      <td>Brasília</td>\n",
       "      <td>Brasília</td>\n",
       "      <td>Distrito Federal</td>\n",
       "      <td>Brasil</td>\n",
       "      <td>Nacional</td>\n",
       "      <td>Ilhéus</td>\n",
       "      <td>...</td>\n",
       "      <td>2020-03-01</td>\n",
       "      <td>2020-11-30</td>\n",
       "      <td>None</td>\n",
       "      <td>2020-03-07</td>\n",
       "      <td>2020-03-14</td>\n",
       "      <td>2020-03-21</td>\n",
       "      <td>2.0</td>\n",
       "      <td>Cotando aéreo</td>\n",
       "      <td>2021-01-11</td>\n",
       "      <td>3</td>\n",
       "    </tr>\n",
       "    <tr>\n",
       "      <th>2</th>\n",
       "      <td>-134622430558610287</td>\n",
       "      <td>NaN</td>\n",
       "      <td>8772484445114060697</td>\n",
       "      <td>2020-04-06</td>\n",
       "      <td>São Paulo</td>\n",
       "      <td>São Paulo</td>\n",
       "      <td>São Paulo</td>\n",
       "      <td>Brasil</td>\n",
       "      <td>Internacional</td>\n",
       "      <td>Barcelona</td>\n",
       "      <td>...</td>\n",
       "      <td>2021-03-01</td>\n",
       "      <td>2022-06-30</td>\n",
       "      <td>None</td>\n",
       "      <td>2021-05-15</td>\n",
       "      <td>2021-05-22</td>\n",
       "      <td>2021-05-29</td>\n",
       "      <td>NaN</td>\n",
       "      <td>None</td>\n",
       "      <td>2021-03-14</td>\n",
       "      <td>2</td>\n",
       "    </tr>\n",
       "    <tr>\n",
       "      <th>3</th>\n",
       "      <td>-8892288855306560503</td>\n",
       "      <td>NaN</td>\n",
       "      <td>6650677439419640636</td>\n",
       "      <td>2020-04-18</td>\n",
       "      <td>São Paulo</td>\n",
       "      <td>São Paulo</td>\n",
       "      <td>São Paulo</td>\n",
       "      <td>Brasil</td>\n",
       "      <td>Internacional</td>\n",
       "      <td>Havana</td>\n",
       "      <td>...</td>\n",
       "      <td>2021-03-01</td>\n",
       "      <td>2022-11-30</td>\n",
       "      <td>None</td>\n",
       "      <td>2021-11-07</td>\n",
       "      <td>2022-04-03</td>\n",
       "      <td>2022-04-10</td>\n",
       "      <td>NaN</td>\n",
       "      <td>None</td>\n",
       "      <td>2021-09-08</td>\n",
       "      <td>3</td>\n",
       "    </tr>\n",
       "    <tr>\n",
       "      <th>4</th>\n",
       "      <td>862668744913335110</td>\n",
       "      <td>-8.055071e+18</td>\n",
       "      <td>5870891268859063188</td>\n",
       "      <td>2020-04-24</td>\n",
       "      <td>Belo Horizonte</td>\n",
       "      <td>Belo Horizonte</td>\n",
       "      <td>Minas Gerais</td>\n",
       "      <td>Brasil</td>\n",
       "      <td>Internacional</td>\n",
       "      <td>Noord</td>\n",
       "      <td>...</td>\n",
       "      <td>2021-03-01</td>\n",
       "      <td>2022-11-30</td>\n",
       "      <td>None</td>\n",
       "      <td>2022-09-08</td>\n",
       "      <td>2022-09-14</td>\n",
       "      <td>2022-09-20</td>\n",
       "      <td>14.0</td>\n",
       "      <td>Cancelada</td>\n",
       "      <td>2022-04-02</td>\n",
       "      <td>3</td>\n",
       "    </tr>\n",
       "  </tbody>\n",
       "</table>\n",
       "<p>5 rows × 28 columns</p>\n",
       "</div>"
      ],
      "text/plain": [
       "    operation_order_id  operation_id             order_id  order_date  \\\n",
       "0 -5491122872638631047           NaN -6623802656111529296  2018-06-28   \n",
       "1  7489639055654340655  6.293305e+18  6071263481676392773  2019-11-29   \n",
       "2  -134622430558610287           NaN  8772484445114060697  2020-04-06   \n",
       "3 -8892288855306560503           NaN  6650677439419640636  2020-04-18   \n",
       "4   862668744913335110 -8.055071e+18  5870891268859063188  2020-04-24   \n",
       "\n",
       "      origin_city order_origin_city      origin_state origin_country  \\\n",
       "0       São Paulo         São Paulo         São Paulo         Brasil   \n",
       "1        Brasília          Brasília  Distrito Federal         Brasil   \n",
       "2       São Paulo         São Paulo         São Paulo         Brasil   \n",
       "3       São Paulo         São Paulo         São Paulo         Brasil   \n",
       "4  Belo Horizonte    Belo Horizonte      Minas Gerais         Brasil   \n",
       "\n",
       "  destination_type destination_city  ... first_valid_date_brt  \\\n",
       "0    Internacional      Joanesburgo  ...           2019-03-01   \n",
       "1         Nacional           Ilhéus  ...           2020-03-01   \n",
       "2    Internacional        Barcelona  ...           2021-03-01   \n",
       "3    Internacional           Havana  ...           2021-03-01   \n",
       "4    Internacional            Noord  ...           2021-03-01   \n",
       "\n",
       "  last_valid_date_brt  first_possible_wish_date_brt  first_wish_date_brt  \\\n",
       "0          2019-11-30                          None           2019-05-11   \n",
       "1          2020-11-30                          None           2020-03-07   \n",
       "2          2022-06-30                          None           2021-05-15   \n",
       "3          2022-11-30                          None           2021-11-07   \n",
       "4          2022-11-30                          None           2022-09-08   \n",
       "\n",
       "  second_wish_date_brt third_wish_date_brt operation_status_id  \\\n",
       "0           2019-06-08          2019-07-06                 NaN   \n",
       "1           2020-03-14          2020-03-21                 2.0   \n",
       "2           2021-05-22          2021-05-29                 NaN   \n",
       "3           2022-04-03          2022-04-10                 NaN   \n",
       "4           2022-09-14          2022-09-20                14.0   \n",
       "\n",
       "  operation_status_name last_update_status_date_brt qty_status_changes  \n",
       "0                  None                  2018-07-13                  2  \n",
       "1         Cotando aéreo                  2021-01-11                  3  \n",
       "2                  None                  2021-03-14                  2  \n",
       "3                  None                  2021-09-08                  3  \n",
       "4             Cancelada                  2022-04-02                  3  \n",
       "\n",
       "[5 rows x 28 columns]"
      ]
     },
     "execution_count": 6,
     "metadata": {},
     "output_type": "execute_result"
    }
   ],
   "source": [
    "df_cancel.head()"
   ]
  },
  {
   "cell_type": "markdown",
   "metadata": {},
   "source": [
    "Save locally:"
   ]
  },
  {
   "cell_type": "code",
   "execution_count": 7,
   "metadata": {},
   "outputs": [],
   "source": [
    "df_cancel.to_csv(f'{root}/src/data/cancellation_data.csv')"
   ]
  },
  {
   "cell_type": "markdown",
   "metadata": {},
   "source": [
    "We have a lot of null values:"
   ]
  },
  {
   "cell_type": "code",
   "execution_count": 8,
   "metadata": {},
   "outputs": [
    {
     "name": "stdout",
     "output_type": "stream",
     "text": [
      "<class 'pandas.core.frame.DataFrame'>\n",
      "RangeIndex: 299702 entries, 0 to 299701\n",
      "Data columns (total 28 columns):\n",
      " #   Column                        Non-Null Count   Dtype  \n",
      "---  ------                        --------------   -----  \n",
      " 0   operation_order_id            299702 non-null  int64  \n",
      " 1   operation_id                  154315 non-null  float64\n",
      " 2   order_id                      299702 non-null  int64  \n",
      " 3   order_date                    299702 non-null  object \n",
      " 4   origin_city                   299702 non-null  object \n",
      " 5   order_origin_city             299702 non-null  object \n",
      " 6   origin_state                  299702 non-null  object \n",
      " 7   origin_country                299702 non-null  object \n",
      " 8   destination_type              299702 non-null  object \n",
      " 9   destination_city              299702 non-null  object \n",
      " 10  destination_state             299702 non-null  object \n",
      " 11  destination_country           299702 non-null  object \n",
      " 12  qty_people                    299702 non-null  int64  \n",
      " 13  qty_dailies                   299702 non-null  int64  \n",
      " 14  accommodation_type            277123 non-null  object \n",
      " 15  filled_form                   299702 non-null  object \n",
      " 16  first_form_fill_date_brt      299702 non-null  object \n",
      " 17  last_form_fill_date_brt       299702 non-null  object \n",
      " 18  first_valid_date_brt          299699 non-null  object \n",
      " 19  last_valid_date_brt           299699 non-null  object \n",
      " 20  first_possible_wish_date_brt  0 non-null       object \n",
      " 21  first_wish_date_brt           299697 non-null  object \n",
      " 22  second_wish_date_brt          299697 non-null  object \n",
      " 23  third_wish_date_brt           299697 non-null  object \n",
      " 24  operation_status_id           154315 non-null  float64\n",
      " 25  operation_status_name         154315 non-null  object \n",
      " 26  last_update_status_date_brt   299702 non-null  object \n",
      " 27  qty_status_changes            299702 non-null  int64  \n",
      "dtypes: float64(2), int64(5), object(21)\n",
      "memory usage: 64.0+ MB\n"
     ]
    }
   ],
   "source": [
    "df_cancel.info()"
   ]
  },
  {
   "cell_type": "markdown",
   "metadata": {},
   "source": [
    "- The feature `operation_id` indicates if the order started the process of being operated before the cancellation and the features `operation_status_id` and `operation_status_name` indicates the status of the operation process. The first feature we'll convert to boolean because we want to analyze if the client cancelled the order after the operation process started. \n",
    "- `origin_city` and `origin_state` miss more than half of the data, but `order_origin_city` has the same purpose of `origin_city`. So, we'll see if it's possible to consider the `order_origin_city` valid and if we can use it to try to fill up the missing data of `origin_state`. \n",
    "- The feature `filled_form` is related to the client inform the desired dates to travel, so is enough if this information is boolean too. `first_form_fill_date_brt` and `last_form_fill_date_brt` are related to the first and last date in which the client filled up the form, we'll use these features only to verify if the process of filling up the form and the cancellation are close events.\n",
    "- `first_possible_wish_date_brt` is completely empty, so we'll remove the column.\n",
    "- The columns `first_wish_date_brt`, `second_wish_date_brt` and `third_wish_date_brt` are the wished dates to travel informed by half of the clients, at a first moment we'll not be concern about these information.\n",
    "- The columns `operation_status_name` and `operation_status_id` are related to the status of the operation process, if a order was cancelled before the start of the operation, this information doesn't exists. So we'll use only the `operation_status_name` information, replacing the missing values with a non-started status name.\n",
    "- The column `accommodation_type` has some missing data, we're going to look further on it before deciding if it will me removed or filled up.\n",
    "\n",
    "Next we'll proceed to execute this modifications."
   ]
  },
  {
   "cell_type": "code",
   "execution_count": 9,
   "metadata": {},
   "outputs": [
    {
     "data": {
      "text/plain": [
       "operation_order_id                0.000000\n",
       "operation_id                     48.510520\n",
       "order_id                          0.000000\n",
       "order_date                        0.000000\n",
       "origin_city                       0.000000\n",
       "order_origin_city                 0.000000\n",
       "origin_state                      0.000000\n",
       "origin_country                    0.000000\n",
       "destination_type                  0.000000\n",
       "destination_city                  0.000000\n",
       "destination_state                 0.000000\n",
       "destination_country               0.000000\n",
       "qty_people                        0.000000\n",
       "qty_dailies                       0.000000\n",
       "accommodation_type                7.533817\n",
       "filled_form                       0.000000\n",
       "first_form_fill_date_brt          0.000000\n",
       "last_form_fill_date_brt           0.000000\n",
       "first_valid_date_brt              0.001001\n",
       "last_valid_date_brt               0.001001\n",
       "first_possible_wish_date_brt    100.000000\n",
       "first_wish_date_brt               0.001668\n",
       "second_wish_date_brt              0.001668\n",
       "third_wish_date_brt               0.001668\n",
       "operation_status_id              48.510520\n",
       "operation_status_name            48.510520\n",
       "last_update_status_date_brt       0.000000\n",
       "qty_status_changes                0.000000\n",
       "dtype: float64"
      ]
     },
     "execution_count": 9,
     "metadata": {},
     "output_type": "execute_result"
    }
   ],
   "source": [
    "(df_cancel.isna().sum()/df_cancel.shape[0])*100"
   ]
  },
  {
   "cell_type": "markdown",
   "metadata": {},
   "source": [
    "Converting columns to boolean:"
   ]
  },
  {
   "cell_type": "code",
   "execution_count": 19,
   "metadata": {},
   "outputs": [],
   "source": [
    "df = utils.convert_to_boolean(df_cancel, 'operation_id')\n",
    "df = utils.convert_to_boolean(df, 'filled_form')"
   ]
  },
  {
   "cell_type": "markdown",
   "metadata": {},
   "source": [
    "Looking at order_origin_city:"
   ]
  },
  {
   "cell_type": "markdown",
   "metadata": {},
   "source": [
    "There's a lot of inconsistencies between the two cities columns, so we'll consider only the common information to fill up the state column."
   ]
  },
  {
   "cell_type": "code",
   "execution_count": 20,
   "metadata": {},
   "outputs": [
    {
     "data": {
      "text/html": [
       "<div>\n",
       "<style scoped>\n",
       "    .dataframe tbody tr th:only-of-type {\n",
       "        vertical-align: middle;\n",
       "    }\n",
       "\n",
       "    .dataframe tbody tr th {\n",
       "        vertical-align: top;\n",
       "    }\n",
       "\n",
       "    .dataframe thead th {\n",
       "        text-align: right;\n",
       "    }\n",
       "</style>\n",
       "<table border=\"1\" class=\"dataframe\">\n",
       "  <thead>\n",
       "    <tr style=\"text-align: right;\">\n",
       "      <th></th>\n",
       "      <th>origin_city</th>\n",
       "      <th>order_origin_city</th>\n",
       "    </tr>\n",
       "  </thead>\n",
       "  <tbody>\n",
       "    <tr>\n",
       "      <th>24814</th>\n",
       "      <td>Rio de Janeiro</td>\n",
       "      <td>São Paulo</td>\n",
       "    </tr>\n",
       "    <tr>\n",
       "      <th>133395</th>\n",
       "      <td>São Paulo</td>\n",
       "      <td>Cuiabá</td>\n",
       "    </tr>\n",
       "    <tr>\n",
       "      <th>217700</th>\n",
       "      <td>Rio de Janeiro</td>\n",
       "      <td>Su00e3o Paulo</td>\n",
       "    </tr>\n",
       "    <tr>\n",
       "      <th>236548</th>\n",
       "      <td>Porto Alegre</td>\n",
       "      <td>São Paulo</td>\n",
       "    </tr>\n",
       "    <tr>\n",
       "      <th>277943</th>\n",
       "      <td>Curitiba</td>\n",
       "      <td>Fortaleza</td>\n",
       "    </tr>\n",
       "    <tr>\n",
       "      <th>280345</th>\n",
       "      <td>São Paulo</td>\n",
       "      <td>Sao Paulo</td>\n",
       "    </tr>\n",
       "  </tbody>\n",
       "</table>\n",
       "</div>"
      ],
      "text/plain": [
       "           origin_city order_origin_city\n",
       "24814   Rio de Janeiro         São Paulo\n",
       "133395       São Paulo            Cuiabá\n",
       "217700  Rio de Janeiro     Su00e3o Paulo\n",
       "236548    Porto Alegre         São Paulo\n",
       "277943        Curitiba         Fortaleza\n",
       "280345       São Paulo         Sao Paulo"
      ]
     },
     "execution_count": 20,
     "metadata": {},
     "output_type": "execute_result"
    }
   ],
   "source": [
    "df[['origin_city', 'order_origin_city']].loc[df[['origin_city', 'order_origin_city']].origin_city != df[['origin_city', 'order_origin_city']].order_origin_city].drop_duplicates()"
   ]
  },
  {
   "cell_type": "code",
   "execution_count": 27,
   "metadata": {},
   "outputs": [],
   "source": [
    "city_state = df[['origin_city', 'order_origin_city', 'origin_state']].drop_duplicates().dropna(how='any')\n",
    "city_state = city_state.loc[city_state.order_origin_city == city_state.origin_city]\n",
    "city_state_dict = {city: city_state.loc[city_state.order_origin_city == city].origin_state.values[0] for city in city_state.order_origin_city.values}"
   ]
  },
  {
   "cell_type": "code",
   "execution_count": 28,
   "metadata": {},
   "outputs": [
    {
     "data": {
      "text/plain": [
       "{'São Paulo': 'São Paulo',\n",
       " 'Brasília': 'Distrito Federal',\n",
       " 'Belo Horizonte': 'Minas Gerais',\n",
       " 'Salvador': 'Bahia',\n",
       " 'Rio de Janeiro': 'Rio de Janeiro',\n",
       " 'Porto Alegre': 'Rio Grande do Sul',\n",
       " 'Vitória': 'Espírito Santo',\n",
       " 'Curitiba': 'Paraná',\n",
       " 'Recife': 'Pernambuco',\n",
       " 'Goiânia': 'Goiás',\n",
       " 'Belém': 'Pará',\n",
       " 'Campo Grande': 'Mato Grosso do Sul',\n",
       " 'Cuiabá': 'Mato Grosso',\n",
       " 'Natal': 'Rio Grande do Norte',\n",
       " 'Manaus': 'Amazonas',\n",
       " 'Aracaju': 'Sergipe',\n",
       " 'Florianópolis': 'Santa Catarina',\n",
       " 'Foz do Iguaçu': 'Paraná',\n",
       " 'Fortaleza': 'Ceará',\n",
       " 'João Pessoa': 'Paraíba',\n",
       " 'Maceió': 'Alagoas',\n",
       " 'Campinas': 'São Paulo',\n",
       " 'Porto Velho': 'Rondônia',\n",
       " 'Palmas': 'Tocantins',\n",
       " 'Boa Vista': 'Roraima',\n",
       " 'Macapá': 'Amapá',\n",
       " 'Porto Seguro': 'Bahia',\n",
       " 'Ribeirão Preto': 'São Paulo',\n",
       " 'Vitoria da Conquista': 'Bahia',\n",
       " 'Guarulhos': 'São Paulo',\n",
       " 'Teresina': 'Piauí',\n",
       " 'São Luís': 'Maranhão',\n",
       " 'Rio Branco': 'Acre'}"
      ]
     },
     "execution_count": 28,
     "metadata": {},
     "output_type": "execute_result"
    }
   ],
   "source": [
    "city_state_dict"
   ]
  },
  {
   "cell_type": "code",
   "execution_count": 29,
   "metadata": {},
   "outputs": [],
   "source": [
    "df.loc[df.origin_state.isna(), 'origin_state'] = df['order_origin_city'].map(city_state_dict)"
   ]
  },
  {
   "cell_type": "markdown",
   "metadata": {},
   "source": [
    "We were able to fill up all the missing state information:"
   ]
  },
  {
   "cell_type": "code",
   "execution_count": 30,
   "metadata": {},
   "outputs": [
    {
     "data": {
      "text/plain": [
       "0.0"
      ]
     },
     "execution_count": 30,
     "metadata": {},
     "output_type": "execute_result"
    }
   ],
   "source": [
    "(df.origin_state.isna().sum()/df.shape[0])*100"
   ]
  },
  {
   "cell_type": "markdown",
   "metadata": {},
   "source": [
    "Drop some columns:"
   ]
  },
  {
   "cell_type": "code",
   "execution_count": 31,
   "metadata": {},
   "outputs": [],
   "source": [
    "df = df.drop(['first_possible_wish_date_brt', 'first_form_fill_date_brt', 'last_form_fill_date_brt', 'origin_city', 'first_wish_date_brt', 'second_wish_date_brt', 'third_wish_date_brt', 'operation_status_id'], axis=1)"
   ]
  },
  {
   "cell_type": "markdown",
   "metadata": {},
   "source": [
    "Filling up the operation_status_name column:"
   ]
  },
  {
   "cell_type": "code",
   "execution_count": 32,
   "metadata": {},
   "outputs": [],
   "source": [
    "df.loc[df.operation_status_name.isna(), 'operation_status_name'] = 'not started'"
   ]
  },
  {
   "cell_type": "markdown",
   "metadata": {},
   "source": [
    "Looking at accommodation_type:"
   ]
  },
  {
   "cell_type": "markdown",
   "metadata": {},
   "source": [
    "It's possible to notice that the column has the information of type varying even for the same room type. For instance, `Apartamento duplo` and `Apartamento duplo casal`. So we'll try to extract the main information of the column (individual, duplo, triplo, etc)."
   ]
  },
  {
   "cell_type": "code",
   "execution_count": 36,
   "metadata": {},
   "outputs": [
    {
     "data": {
      "text/plain": [
       "0                           Apartamento Duplo ou Individual\n",
       "1                          Apartamento individual ou duplo.\n",
       "2                                        Apartamento duplo.\n",
       "3                                        Apartamento duplo.\n",
       "4                                        Apartamento duplo.\n",
       "                                ...                        \n",
       "299697                                   Apartamento duplo.\n",
       "299698                            Apartamento duplo casal. \n",
       "299699                            Apartamento duplo casal. \n",
       "299700    Apartamento duplo ou triplo, de acordo com a o...\n",
       "299701                            Apartamento duplo casal. \n",
       "Name: accommodation_type, Length: 277123, dtype: object"
      ]
     },
     "execution_count": 36,
     "metadata": {},
     "output_type": "execute_result"
    }
   ],
   "source": [
    "df.loc[~df.accommodation_type.isna()].accommodation_type"
   ]
  },
  {
   "cell_type": "code",
   "execution_count": null,
   "metadata": {},
   "outputs": [],
   "source": []
  },
  {
   "cell_type": "code",
   "execution_count": null,
   "metadata": {},
   "outputs": [],
   "source": [
    "(df.isna().sum()/df.shape[0])*100"
   ]
  }
 ],
 "metadata": {
  "kernelspec": {
   "display_name": "Python 3 (ipykernel)",
   "language": "python",
   "name": "python3"
  },
  "language_info": {
   "codemirror_mode": {
    "name": "ipython",
    "version": 3
   },
   "file_extension": ".py",
   "mimetype": "text/x-python",
   "name": "python",
   "nbconvert_exporter": "python",
   "pygments_lexer": "ipython3",
   "version": "3.7.5"
  }
 },
 "nbformat": 4,
 "nbformat_minor": 4
}
